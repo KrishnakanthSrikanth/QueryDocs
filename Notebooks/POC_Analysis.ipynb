{
 "cells": [
  {
   "cell_type": "code",
   "execution_count": 1,
   "metadata": {
    "colab": {
     "base_uri": "https://localhost:8080/"
    },
    "id": "ZBxLrT8KWchC",
    "outputId": "8185ed8c-5ca8-45e0-e059-5580fd6c7912"
   },
   "outputs": [
    {
     "name": "stderr",
     "output_type": "stream",
     "text": [
      "/Users/chris/miniconda3/envs/dev/lib/python3.10/site-packages/transformers/models/t5/tokenization_t5_fast.py:171: FutureWarning: This tokenizer was incorrectly instantiated with a model max length of 512 which will be corrected in Transformers v5.\n",
      "For now, this behavior is kept to avoid breaking backwards compatibility when padding/encoding with `truncation is True`.\n",
      "- Be aware that you SHOULD NOT rely on google-t5/t5-large automatically truncating your input to 512 when padding/encoding.\n",
      "- If you want to encode/pad to sequences longer than 512 you can either instantiate this tokenizer with `model_max_length` or pass `max_length` when encoding/padding.\n",
      "- To avoid this warning, please instantiate this tokenizer with `model_max_length` set to your preferred value.\n",
      "  warnings.warn(\n"
     ]
    }
   ],
   "source": [
    "# Dependency installation code\n",
    "# !pip install PyPDF2 torch transformers\n",
    "\n",
    "# Import dependencies\n",
    "import PyPDF2\n",
    "import torch\n",
    "from transformers import AutoTokenizer, T5EncoderModel\n",
    "\n",
    "# Load T5EncoderModel - small\n",
    "# tokenizer = AutoTokenizer.from_pretrained(\"google-t5/t5-small\", suppress_warnings=True)\n",
    "# model = T5EncoderModel.from_pretrained(\"google-t5/t5-small\")\n",
    "\n",
    "# Load T5EncoderModel - large (>2.8 GB - longer load time)\n",
    "tokenizer = AutoTokenizer.from_pretrained(\"google-t5/t5-large\", suppress_warnings=True)\n",
    "model = T5EncoderModel.from_pretrained(\"google-t5/t5-large\")"
   ]
  },
  {
   "cell_type": "code",
   "execution_count": 13,
   "metadata": {
    "id": "VBzyu3oZIdzV"
   },
   "outputs": [],
   "source": [
    "# Tokenize Input sentence and query\n",
    "input_ids = tokenizer('Our products are produced through sustainable practices', return_tensors = 'pt').input_ids\n",
    "query_ids = tokenizer('This statement is related to Sustainable practices', \n",
    "                      return_tensors = 'pt').input_ids\n",
    "\n",
    "# Generate Encodings\n",
    "outputs = model(input_ids=input_ids)\n",
    "query = model(input_ids = query_ids)\n",
    "\n",
    "# Retrieve encodings for sentence and query.\n",
    "last_hidden_states = outputs.last_hidden_state\n",
    "last_hidden_states_query = query.last_hidden_state"
   ]
  },
  {
   "cell_type": "markdown",
   "metadata": {},
   "source": [
    "## Max Pooling Strategy"
   ]
  },
  {
   "cell_type": "code",
   "execution_count": 14,
   "metadata": {
    "colab": {
     "base_uri": "https://localhost:8080/"
    },
    "id": "Xl0YjZsHPI-Q",
    "outputId": "7661523f-c275-4a66-d715-b4cf906b3986"
   },
   "outputs": [
    {
     "name": "stdout",
     "output_type": "stream",
     "text": [
      "Similarity Score: 69.13910675048828\n"
     ]
    }
   ],
   "source": [
    "# Apply max pooling along the token dimension (dim=1)\n",
    "pooled_last_hidden_states = torch.max(last_hidden_states, dim=1).values.unsqueeze(0)  \n",
    "pooled_last_hidden_states_query = torch.max(last_hidden_states_query, dim=1).values.unsqueeze(0)  \n",
    "\n",
    "# Reshape pooled_last_hidden_states_query to match the shape of pooled_last_hidden_states\n",
    "pooled_last_hidden_states_query = pooled_last_hidden_states_query.view(1, -1)\n",
    "\n",
    "# Compute dot product between the pooled representations\n",
    "similarity = torch.matmul(pooled_last_hidden_states, pooled_last_hidden_states_query.T)\n",
    "\n",
    "# Print similarity score\n",
    "print(\"Similarity Score:\", similarity.item())\n"
   ]
  },
  {
   "cell_type": "markdown",
   "metadata": {},
   "source": [
    "Max Pooling Results:\n",
    "\n",
    "| Sentence                     | Query                        | Score (small model) | Score (large model) |\n",
    "|------------------------------|------------------------------|---------------------|---------------------|\n",
    "| 'This product is sustainable'| 'Where is the India? '       | 14.40               | 34.91               |\n",
    "| 'India is in Asia'           | 'Where is the India? '       | 15.46               | 43.41               |      \n",
    "| 'Our product is sustainable' | 'Sustainable '               | 09.38               | 27.79               |\n"
   ]
  },
  {
   "cell_type": "markdown",
   "metadata": {},
   "source": [
    "## Mean Pooling Strategy"
   ]
  },
  {
   "cell_type": "code",
   "execution_count": 15,
   "metadata": {
    "id": "aIVyO0vcpKx8"
   },
   "outputs": [
    {
     "name": "stdout",
     "output_type": "stream",
     "text": [
      "Similarity Score: 5.169628620147705\n"
     ]
    }
   ],
   "source": [
    "# Apply mean pooling along the token dimension (dim=1)\n",
    "pooled_last_hidden_states = torch.mean(last_hidden_states, dim=1).unsqueeze(0)  \n",
    "pooled_last_hidden_states_query = torch.mean(last_hidden_states_query, dim=1).unsqueeze(0)  \n",
    "\n",
    "# Reshape pooled_last_hidden_states_query to match the shape of pooled_last_hidden_states\n",
    "pooled_last_hidden_states_query = pooled_last_hidden_states_query.view(1, -1)\n",
    "\n",
    "# Compute dot product between the pooled representations\n",
    "similarity = torch.matmul(pooled_last_hidden_states, pooled_last_hidden_states_query.T)\n",
    "\n",
    "# Print similarity score\n",
    "print(\"Similarity Score:\", similarity.item())"
   ]
  },
  {
   "cell_type": "markdown",
   "metadata": {},
   "source": [
    "Mean Pooling Results:\n",
    "\n",
    "| Sentence                     | Query                        | Score (small model)| Score (large model) |\n",
    "|------------------------------|------------------------------|--------------------|---------------------|\n",
    "| 'This product is sustainable'| 'Where is the India? '       | 1.74               |2.88                 |\n",
    "| 'India is in Asia'           | 'Where is the India? '       | 2.56               |4.55                 |\n",
    "| 'Our product is sustainable' | 'Sustainable '               | 2.65               |4.70                 |"
   ]
  },
  {
   "cell_type": "code",
   "execution_count": null,
   "metadata": {},
   "outputs": [],
   "source": []
  }
 ],
 "metadata": {
  "accelerator": "GPU",
  "colab": {
   "gpuType": "T4",
   "provenance": []
  },
  "kernelspec": {
   "display_name": "Python 3 (ipykernel)",
   "language": "python",
   "name": "python3"
  },
  "language_info": {
   "codemirror_mode": {
    "name": "ipython",
    "version": 3
   },
   "file_extension": ".py",
   "mimetype": "text/x-python",
   "name": "python",
   "nbconvert_exporter": "python",
   "pygments_lexer": "ipython3",
   "version": "3.10.13"
  }
 },
 "nbformat": 4,
 "nbformat_minor": 1
}
