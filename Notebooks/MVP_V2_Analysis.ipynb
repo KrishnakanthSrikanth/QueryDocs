{
 "cells": [
  {
   "cell_type": "code",
   "execution_count": 1,
   "id": "11a5fad9",
   "metadata": {},
   "outputs": [],
   "source": [
    "import sys\n",
    "sys.path.append(\"../NotebookScripts/\")\n",
    "\n",
    "import pandas as pd\n",
    "from pdf_parser import sentence_parser\n",
    "from sentence_transformers import SentenceTransformer, util"
   ]
  },
  {
   "cell_type": "code",
   "execution_count": 2,
   "id": "5987b87b",
   "metadata": {},
   "outputs": [],
   "source": [
    "# Specify the model\n",
    "mvp_v2_model = SentenceTransformer(\"all-mpnet-base-v2\")"
   ]
  },
  {
   "cell_type": "code",
   "execution_count": 3,
   "id": "9bd5dd96",
   "metadata": {},
   "outputs": [
    {
     "name": "stdout",
     "output_type": "stream",
     "text": [
      "Report located in specified directory\n",
      "\n",
      "Summary:\n",
      "Total number of sentences: 1593\n",
      "\n",
      " At her first Olympic outing, Ariarne remarkably took home two individual gold medals in the 200m and 400m freestyle, placing her among Australia’s most successful swimmers.\n",
      "\n",
      " Most recently in Birmingham, Ariarne achieved a clean sweep with three individual gold medals in 200m, 400m and 800m freestyle, in addition to a gold medal for her relay team that won the 4 x 200m Freestyle relay.\n",
      "\n",
      " Ariarne, at 22 years old, finished all 3 of her individual events with Commonwealth Games records holding the status of one of the most dominant freestyle swimmers in the world as well as being the first athlete in 50 years to take out all 3 gold medals in the Commonwealth Games woman’s freestyle.\n",
      "\n",
      " In addition, Ariarne broke Katie Ledecky’s long standing 400m Freestyle World Record at the 2022 Australian Championships, placing her as one of the all-time middle distance greats.\n",
      "\n",
      " Ariarne isn’t shy of a challenge and has become an inspirational figure, with the highest engagement figures out of all Australian swimmers.\n",
      "\n",
      " Ariarne has proven to be an insightful speaker and a humble role model to future generations quoting in a post-game interview “I’m just from a small town in Tassie and this goes to show that if you believe you can do something you can 100% do it if you work for it”.\n",
      "\n",
      " Ariarne also as gracious in defeat as she is in victory quoting “If I went to the Olympics and didn’t win gold in the 400 but I swam the time I did, I would’ve still been happy because I would have swum the best that I could, it just hadn’t been enough on that day”.\n",
      "\n",
      " HNHL CONSOLIDATED REVENUES SALES OF PRODUCTS TO CUSTOMERS………………..…….. $2.807bn REVENUE RECEIVED FROM FRANCHISEES…..……………….\n",
      "\n",
      " Amid these ongoing and unprecedented challenges, the 8 countries in which our brands operat e have delivered solid results in FY22.\n",
      "\n",
      " The results achieved this year are a testament to the strength an d resilience of our integrated retail, franchise, property and digital system.\n"
     ]
    }
   ],
   "source": [
    "# Declare file path to the Report\n",
    "file_path = '../SampleReports/2022_HNorman_Report.pdf'\n",
    "\n",
    "# Retieve Sentences from the report\n",
    "pdf_sentences = sentence_parser(file_path, print_sentences=True ,num_sentences=10, parsing_method='pypdf')"
   ]
  },
  {
   "cell_type": "code",
   "execution_count": 4,
   "id": "f896f89c",
   "metadata": {},
   "outputs": [],
   "source": [
    "# Declare test query here\n",
    "query = \"This statement is strongly related to Sustainable product packaging\""
   ]
  },
  {
   "cell_type": "code",
   "execution_count": 5,
   "id": "3e3462c2",
   "metadata": {},
   "outputs": [],
   "source": [
    "import time\n",
    "\n",
    "# Record the end time\n",
    "start_time = time.time()\n",
    "\n",
    "# Create Embeddings for query\n",
    "query_embedding = mvp_v2_model.encode(query)\n",
    "\n",
    "# Create Embeddings for retrieved sentences\n",
    "sentence_embedding = mvp_v2_model.encode(pdf_sentences)\n",
    "\n",
    "# Compute similarity scores\n",
    "scores = util.cos_sim(query_embedding, sentence_embedding)[0]\n",
    "\n",
    "# Record the end time\n",
    "end_time = time.time()"
   ]
  },
  {
   "cell_type": "code",
   "execution_count": 6,
   "id": "294b6c5d",
   "metadata": {},
   "outputs": [
    {
     "name": "stdout",
     "output_type": "stream",
     "text": [
      "Execution Time: 21.59058904647827 seconds\n"
     ]
    }
   ],
   "source": [
    "# Calculate the total time taken\n",
    "execution_time = end_time - start_time\n",
    "\n",
    "print(\"Execution Time:\", execution_time, \"seconds\")"
   ]
  },
  {
   "cell_type": "code",
   "execution_count": 7,
   "id": "deede4a5",
   "metadata": {},
   "outputs": [],
   "source": [
    "# Create a DataFrame\n",
    "df = pd.DataFrame({\n",
    "    'Sentence_ID': range(1, len(pdf_sentences) + 1),\n",
    "    'Sentence': pdf_sentences,\n",
    "    'Score': scores.tolist()\n",
    "})"
   ]
  },
  {
   "cell_type": "code",
   "execution_count": 10,
   "id": "990b0a3a",
   "metadata": {},
   "outputs": [
    {
     "data": {
      "text/html": [
       "<div>\n",
       "<style scoped>\n",
       "    .dataframe tbody tr th:only-of-type {\n",
       "        vertical-align: middle;\n",
       "    }\n",
       "\n",
       "    .dataframe tbody tr th {\n",
       "        vertical-align: top;\n",
       "    }\n",
       "\n",
       "    .dataframe thead th {\n",
       "        text-align: right;\n",
       "    }\n",
       "</style>\n",
       "<table border=\"1\" class=\"dataframe\">\n",
       "  <thead>\n",
       "    <tr style=\"text-align: right;\">\n",
       "      <th></th>\n",
       "      <th>Sentence_ID</th>\n",
       "      <th>Sentence</th>\n",
       "      <th>Score</th>\n",
       "    </tr>\n",
       "  </thead>\n",
       "  <tbody>\n",
       "    <tr>\n",
       "      <th>1011</th>\n",
       "      <td>1012</td>\n",
       "      <td>At our company-operated stores we have commenc...</td>\n",
       "      <td>0.715441</td>\n",
       "    </tr>\n",
       "    <tr>\n",
       "      <th>1008</th>\n",
       "      <td>1009</td>\n",
       "      <td>Factors such as energy efficiency, water use, ...</td>\n",
       "      <td>0.678294</td>\n",
       "    </tr>\n",
       "    <tr>\n",
       "      <th>1004</th>\n",
       "      <td>1005</td>\n",
       "      <td>Customer engagement We undertook a survey of c...</td>\n",
       "      <td>0.659543</td>\n",
       "    </tr>\n",
       "    <tr>\n",
       "      <th>1013</th>\n",
       "      <td>1014</td>\n",
       "      <td>In FY22 we have focused on working with suppli...</td>\n",
       "      <td>0.633488</td>\n",
       "    </tr>\n",
       "    <tr>\n",
       "      <th>1010</th>\n",
       "      <td>1011</td>\n",
       "      <td>This waste is produced in relation to the prod...</td>\n",
       "      <td>0.585730</td>\n",
       "    </tr>\n",
       "    <tr>\n",
       "      <th>...</th>\n",
       "      <td>...</td>\n",
       "      <td>...</td>\n",
       "      <td>...</td>\n",
       "    </tr>\n",
       "    <tr>\n",
       "      <th>948</th>\n",
       "      <td>949</td>\n",
       "      <td>Just 14, Montana is an aspiring Para-swimmer h...</td>\n",
       "      <td>-0.038327</td>\n",
       "    </tr>\n",
       "    <tr>\n",
       "      <th>432</th>\n",
       "      <td>433</td>\n",
       "      <td>Ackery 100% 8 [8] n/a n/a n/a C. Mentis 100% 8...</td>\n",
       "      <td>-0.038630</td>\n",
       "    </tr>\n",
       "    <tr>\n",
       "      <th>944</th>\n",
       "      <td>945</td>\n",
       "      <td>Jye is an Australian middle-distance runner an...</td>\n",
       "      <td>-0.045059</td>\n",
       "    </tr>\n",
       "    <tr>\n",
       "      <th>6</th>\n",
       "      <td>7</td>\n",
       "      <td>Ariarne also as gracious in defeat as she is i...</td>\n",
       "      <td>-0.046288</td>\n",
       "    </tr>\n",
       "    <tr>\n",
       "      <th>1</th>\n",
       "      <td>2</td>\n",
       "      <td>Most recently in Birmingham, Ariarne achieved ...</td>\n",
       "      <td>-0.060451</td>\n",
       "    </tr>\n",
       "  </tbody>\n",
       "</table>\n",
       "<p>1593 rows × 3 columns</p>\n",
       "</div>"
      ],
      "text/plain": [
       "      Sentence_ID                                           Sentence     Score\n",
       "1011         1012  At our company-operated stores we have commenc...  0.715441\n",
       "1008         1009  Factors such as energy efficiency, water use, ...  0.678294\n",
       "1004         1005  Customer engagement We undertook a survey of c...  0.659543\n",
       "1013         1014  In FY22 we have focused on working with suppli...  0.633488\n",
       "1010         1011  This waste is produced in relation to the prod...  0.585730\n",
       "...           ...                                                ...       ...\n",
       "948           949  Just 14, Montana is an aspiring Para-swimmer h... -0.038327\n",
       "432           433  Ackery 100% 8 [8] n/a n/a n/a C. Mentis 100% 8... -0.038630\n",
       "944           945  Jye is an Australian middle-distance runner an... -0.045059\n",
       "6               7  Ariarne also as gracious in defeat as she is i... -0.046288\n",
       "1               2  Most recently in Birmingham, Ariarne achieved ... -0.060451\n",
       "\n",
       "[1593 rows x 3 columns]"
      ]
     },
     "execution_count": 10,
     "metadata": {},
     "output_type": "execute_result"
    }
   ],
   "source": [
    "sorted_df = df.sort_values(by='Score', ascending=False)\n",
    "sorted_df\n",
    "\n",
    "# Uncomment to save the scores\n",
    "# sorted_df.to_csv('HNorman_score_file.csv', index=False)"
   ]
  },
  {
   "cell_type": "code",
   "execution_count": null,
   "id": "197294dd",
   "metadata": {},
   "outputs": [],
   "source": []
  }
 ],
 "metadata": {
  "kernelspec": {
   "display_name": "Python 3 (ipykernel)",
   "language": "python",
   "name": "python3"
  },
  "language_info": {
   "codemirror_mode": {
    "name": "ipython",
    "version": 3
   },
   "file_extension": ".py",
   "mimetype": "text/x-python",
   "name": "python",
   "nbconvert_exporter": "python",
   "pygments_lexer": "ipython3",
   "version": "3.10.13"
  }
 },
 "nbformat": 4,
 "nbformat_minor": 5
}
