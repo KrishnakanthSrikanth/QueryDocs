{
 "cells": [
  {
   "cell_type": "code",
   "execution_count": 1,
   "id": "b629eb6f",
   "metadata": {},
   "outputs": [],
   "source": [
    "# Import Dependencies\n",
    "import PyPDF2\n",
    "from pdf2image import convert_from_path\n",
    "import pytesseract\n",
    "import nltk\n",
    "import re\n",
    "\n",
    "# Dependeny installation\n",
    "# !pip install nltk PyPDF2\n",
    "\n",
    "# Download the required dataset for sentence tokenization\n",
    "# nltk.download('punkt')  "
   ]
  },
  {
   "cell_type": "markdown",
   "id": "7be45832",
   "metadata": {},
   "source": [
    "# PDF to Sentence Parser"
   ]
  },
  {
   "cell_type": "markdown",
   "id": "80e4e2c0",
   "metadata": {},
   "source": [
    "### Method 1: PyPDF 2 Parser\n",
    "\n",
    "Parsing is a process that extracts data from structured or semi-structured PDFs by analyzing their internal structure and metadata. Parsing software reads the PDF file and identifies the elements and attributes that define the data, such as tags, fields, coordinates, or styles.\n",
    "\n",
    "In Method 1 we use the PyPDF2 to read the annual reports. More details can be found [here](https://pypdf2.readthedocs.io/en/3.x/)"
   ]
  },
  {
   "cell_type": "code",
   "execution_count": 2,
   "id": "08fdb9cf",
   "metadata": {},
   "outputs": [],
   "source": [
    "# PyPDF 2 Parser\n",
    "def parser_pypdf(file_path):\n",
    "    \n",
    "    text = \"\"\n",
    "    with open(file_path, 'rb') as file:\n",
    "        reader = PyPDF2.PdfReader(file)\n",
    "        num_pages = len(reader.pages)\n",
    "        \n",
    "        for page_number in range(num_pages):\n",
    "            page = reader.pages[page_number]\n",
    "            text += page.extract_text()\n",
    "            \n",
    "    return text\n",
    "\n",
    "# Function to split document into sentences\n",
    "def get_sentences(text):\n",
    "    \n",
    "    sentences = nltk.sent_tokenize(text)\n",
    "    return sentences\n",
    "\n",
    "# Function to perform text formatting operations on a list of sentences\n",
    "def sentence_formatter(sentences):\n",
    "    \n",
    "    formatted_sentences = []\n",
    "    \n",
    "    for sentence in sentences:\n",
    "        sentence = sentence.replace('\\n', ' ')\n",
    "        sentence = sentence.strip()\n",
    "        sentence = re.sub(r'\\s+', ' ', sentence)\n",
    "        \n",
    "        # Skip sentences with more than 80 words\n",
    "        if len(sentence.split(\" \")) > 85:\n",
    "            continue\n",
    "        \n",
    "        # Join fragmented sentences\n",
    "        if len(formatted_sentences) > 0 and not sentence[0].isupper():\n",
    "            formatted_sentences[-1] += ' ' + sentence\n",
    "        else:\n",
    "            formatted_sentences.append(sentence)\n",
    "    \n",
    "    return formatted_sentences"
   ]
  },
  {
   "cell_type": "markdown",
   "id": "49f8c270",
   "metadata": {},
   "source": [
    "### Method 2: OCR Reader\n",
    "\n",
    "OCR stands for optical character recognition, a process that converts images of text into editable and searchable text. OCR software scans the PDF file and analyzes the pixels to identify the characters and words. OCR can be useful for extracting data from scanned or image-based PDFs, such as invoices, receipts, forms, or reports. \n",
    "\n",
    "**IMPORTANT NOTE: Tesseract and poppler need to be installed and added to system PATH for error-free execution.**\n",
    "\n",
    "We use the Tesseract OCR for Method 2. More details can be accessed [here](https://github.com/tesseract-ocr/tesseract)"
   ]
  },
  {
   "cell_type": "code",
   "execution_count": 3,
   "id": "47c094a8",
   "metadata": {},
   "outputs": [],
   "source": [
    "# OCR PDF Reader.\n",
    "def parser_ocr(pdf_path):\n",
    "    images = convert_from_path(pdf_path)\n",
    "    extracted_text = \"\"\n",
    "    \n",
    "    for image in images:\n",
    "        text = pytesseract.image_to_string(image, lang='eng')\n",
    "        extracted_text += text\n",
    "\n",
    "    return extracted_text"
   ]
  },
  {
   "cell_type": "markdown",
   "id": "287cd6b4",
   "metadata": {},
   "source": [
    "---"
   ]
  },
  {
   "cell_type": "markdown",
   "id": "558cca15",
   "metadata": {},
   "source": [
    "# 2023 Coles Annual Report\n",
    "\n",
    "### Method 1: PyPDF 2 Parser"
   ]
  },
  {
   "cell_type": "code",
   "execution_count": 4,
   "id": "e32ca2c2",
   "metadata": {},
   "outputs": [
    {
     "name": "stdout",
     "output_type": "stream",
     "text": [
      "\n",
      " 2023 Sustainability ReportWorking towards a more sustainable future Coles Group Limited ABN 11 004 089 936Acknowledgement of Country Coles wishes to acknowledge the Traditional Custodians of Country throughout Australia.\n",
      "\n",
      " We recognise their strength and resilience and pay our respects to their Elders past and present.\n",
      "\n",
      " Coles extends that respect to all Aboriginal and Torres Strait Islander people, and recognises their rich cultures and their continuing connection to land and waters.\n",
      "\n",
      " Aboriginal and Torres Strait Islander people are advised that this report may contain names and images of people who are deceased.\n",
      "\n",
      " All references to Indigenous and First Nations people in this report are intended to include Aboriginal and/or Torres Strait Islander people.\n",
      "\n",
      " Feedback We welcome feedback on this report.\n",
      "\n",
      " This report also includes forward-looking statements regarding climate change and other environmental and energy transition scenarios.\n",
      "\n",
      " Forward-looking statements can generally be identified by the use of words such as ‘forecast’, ‘estimate’, ‘plan’, ‘will’, ‘anticipate’, ‘may’, ‘believe’, ‘should’, ‘expect’, ‘intend’, ‘outlook’, ‘guidance’ and other similar expressions.\n",
      "\n",
      " Any forward-looking statements are based on the Group’s current knowledge and assumptions, including with respect to financial, market, risk, regulatory and other relevant environments that will exist and affect the Group’s business and operations in the future.\n",
      "\n",
      " The Group does not give any assurance that the assumptions will prove to be correct.\n"
     ]
    }
   ],
   "source": [
    "# PDF file path to 2023 Coles Report\n",
    "pdf_file_path = \"../SampleReports/2023_Coles_Report.pdf\"\n",
    "\n",
    "# Extract text from the PDF using PyPDF\n",
    "text = parser_pypdf(pdf_file_path)\n",
    "\n",
    "# Get sentences\n",
    "sentences = get_sentences(text)\n",
    "\n",
    "# Formatting Sentences\n",
    "formatted_sentences = sentence_formatter(sentences)\n",
    "\n",
    "# Print the first 10 formatted sentences\n",
    "for sentence in formatted_sentences[:10]:\n",
    "    print('\\n', sentence)"
   ]
  },
  {
   "cell_type": "markdown",
   "id": "b5e94627",
   "metadata": {},
   "source": [
    "### Method 2: OCR Reader"
   ]
  },
  {
   "cell_type": "code",
   "execution_count": 5,
   "id": "87fa5760",
   "metadata": {},
   "outputs": [
    {
     "name": "stdout",
     "output_type": "stream",
     "text": [
      "\n",
      " Working towards a more sustainable future 2023 Sustainability Report colesgroup Coles Group Limited ABN 11 004 089 936 x Sles Secéng Ste, Ending Hunger, Acknowledgement of Country Coles wishes to acknowledge the Traditional Custodians of Country throughout Australia.\n",
      "\n",
      " We recognise their strength and resilience and pay our respects to their Elders past and present.\n",
      "\n",
      " Coles extends that respect to all Aboriginal and Torres Strait Islander people, and recognises their rich cultures and their continuing connection fo land and waters.\n",
      "\n",
      " Aboriginal and Torres Strait Islander people are advised that this report may contain names and images of people who are deceased.\n",
      "\n",
      " All references to Indigenous and First Nations people in this report are intended to include Aboriginal and/or Torres Strait Islander people.\n",
      "\n",
      " Feedback We welcome feedback on this report.\n",
      "\n",
      " This report also includes forward-looking statements regarding climate change and other environmental and energy transition scenarios.\n",
      "\n",
      " Forward-looking statements can generally be identified by the use of words such as ‘forecast’, ‘estimate’, ‘plan’, ‘will’, ‘anticipate’, ‘may’, ‘believe’, ‘should’, ‘expect’, ‘intend’, ‘outlook’, ‘guidance’ and other similar expressions.\n",
      "\n",
      " Any forward-looking statements are based on the Group’s current knowledge and assumptions, including with respect to financial, market, risk, regulatory and other relevant environments that will exist and affect the Group’s business and operations in the future.\n",
      "\n",
      " The Group does not give any assurance that the assumptions will prove to be correct.\n"
     ]
    }
   ],
   "source": [
    "# Extract text from the PDF using Tesseract OCR\n",
    "text_ocr = parser_ocr(pdf_file_path)\n",
    "\n",
    "# Get sentences\n",
    "sentences = get_sentences(text_ocr)\n",
    "\n",
    "# Formatting Sentences\n",
    "formatted_sentences = sentence_formatter(sentences)\n",
    "\n",
    "# Print the first 10 formatted sentences\n",
    "for sentence in formatted_sentences[:10]:\n",
    "    print('\\n', sentence)"
   ]
  },
  {
   "cell_type": "markdown",
   "id": "3a62a4a1",
   "metadata": {},
   "source": [
    "---"
   ]
  },
  {
   "cell_type": "markdown",
   "id": "d8929e78",
   "metadata": {},
   "source": [
    "# 2023 Kathmandu Report\n",
    "\n",
    "### Method 1: PyPDF 2 Parser"
   ]
  },
  {
   "cell_type": "code",
   "execution_count": 6,
   "id": "8cc0099e",
   "metadata": {},
   "outputs": [
    {
     "name": "stdout",
     "output_type": "stream",
     "text": [
      "\n",
      " 1OUR JOURNEY Reporting approach ABOUT THIS REPORT This integrated report is a review of our financial, economic, social and environmental performance for the year ending 31 July 2023.\n",
      "\n",
      " This is our second year of integrated reporting.\n",
      "\n",
      " We have prepared this report using the International <IR> Framework, which aims to communicate the full range of factors that affect an organisation’s ability to create value over time.\n",
      "\n",
      " It requires a high level of transparency and a commitment to robust disclosure around Environmental, Social and Governance (ESG) commitments.\n",
      "\n",
      " KPMG has audited the financial statements in this report.\n",
      "\n",
      " Financial information has been prepared in accordance with New Zealand Equivalents to International Financial Reporting Standards (NZ IFRS) and International Financial Reporting Standards (IFRS).\n",
      "\n",
      " Non-financial information is reported with reference to the Global Reporting Initiative (GRI) Universal Standards.\n",
      "\n",
      " This year, we have built on our climate disclosures, referring to the structure of the Aotearoa New Zealand Climate Standards (NZ CS) as we build towards our first disclosure under the NZ CS for FY24.\n",
      "\n",
      " We will continue to improve and increase our reporting of our climate-related risks and opportunities and how they are reflected in our business strategy as we prepare for the reporting requirements under the NZ CS.\n",
      "\n",
      " This report also includes our Group carbon emissions data, with assurance provided by Toitū Envirocare, a New Zealand-based company helping businesses reduce their carbon footprint.\n"
     ]
    }
   ],
   "source": [
    "# PDF file path to 2023 Kathmandu Report\n",
    "pdf_file_path = \"../SampleReports/2023_KMD_Report.pdf\"\n",
    "\n",
    "# Extract text from the PDF using PyPDF\n",
    "text = parser_pypdf(pdf_file_path)\n",
    "\n",
    "# Get sentences\n",
    "sentences = get_sentences(text)\n",
    "\n",
    "# Formatting Sentences\n",
    "formatted_sentences = sentence_formatter(sentences)\n",
    "\n",
    "# Print the first 10 formatted sentences\n",
    "for sentence in formatted_sentences[:10]:\n",
    "    print('\\n', sentence)"
   ]
  },
  {
   "cell_type": "markdown",
   "id": "8703e34e",
   "metadata": {},
   "source": [
    "### Method 2: OCR Reader"
   ]
  },
  {
   "cell_type": "code",
   "execution_count": 7,
   "id": "ccef4470",
   "metadata": {},
   "outputs": [
    {
     "name": "stdout",
     "output_type": "stream",
     "text": [
      "\n",
      " BRANDS KMD Brands acknowledges Tangata Whenua, the Indigenous Nations, First Peoples, and Custodians of the lands and waterways on which our brand head offices reside in New Zealand, Australia and the United States.\n",
      "\n",
      " This is our second year of integrated reporting.\n",
      "\n",
      " We have prepared this report using the International <IR> Framework, which aims to communicate the full range of factors that affect an organisation's ability to create value over time.\n",
      "\n",
      " It requires a high level of transparency and a commitment to robust disclosure around Environmental, Social and Governance (ESG) commitments.\n",
      "\n",
      " KPMG has audited the financial statements in this report.\n",
      "\n",
      " Financial information has been prepared in accordance with New Zealand Equivalents to International Financial Reporting Standards (NZ IFRS) and International Financial Reporting Standards (IFRS).\n",
      "\n",
      " Non-financial information is reported with reference to the Global Reporting Initiative (GRID Universal Standards.\n",
      "\n",
      " KMD Brands Annual Integrated Report 2023 This year, we have built on our climate disclosures, referring to the structure of the Aotearoa New Zealand Climate Standards (NZ CS) as we build towards our first disclosure under the NZ CS for FY24.\n",
      "\n",
      " We will continue to improve and increase our reporting of our climate-related risks and opportunities and how they are reflected in our business strategy as we prepare for the reporting requirements under the NZ CS.\n",
      "\n",
      " This report also includes our Group carbon emissions data, with assurance provided by Toitt Envirocare, a New Zealand-based company helping businesses reduce their carbon footprint.\n",
      "\n",
      " Apart from our carbon emissions data, external assurance on non-financial data or information has not been obtained.\n",
      "\n",
      " This report constitutes KMD Brands’ 2023 Annual Report to shareholders and covers the requirements of the NZX Corporate Governance Code Wersion 1 April 2023).\n",
      "\n",
      " Our purpose and vision VN Kathmandu’ Obsz FOOTWEAR Kw RIPCURL OUR BUSINESS KMD Brands is a global outdoor lifestyle and sports company and certified B Corporation.\n",
      "\n",
      " The Group consists of three iconic brands: Kathmandu, Oboz and Rip Curl.\n",
      "\n",
      " Kathmandu was founded in 1987 in New Zealand to equip people for travel and adventure.\n",
      "\n",
      " Outdoor footwear brand Oboz joined the group in 2018 and is based in Bozeman, Montana USA, the gateway to Yellowstone National Park.\n",
      "\n",
      " Rip Curl, acquired in 2019, is a leading global surf brand born in Bells Beach, Victoria, Australia, in 1969.\n",
      "\n",
      " KMD Brands Limited is publicly listed on the NZX and ASX, initially listing in 2009 as Kathmandu Holdings Limited.\n",
      "\n",
      " The name changed to KMD Brands Limited in 2022 to reflect the multi-brand nature of the company and its future strategy, while still acknowledging our history.\n",
      "\n",
      " KMD Brands is a family of outdoor brands that designs products for purpose, is driven by innovation and is best for people and planet.\n",
      "\n",
      " All products in the KMD Brands family are made specifically for the outdoors and are tested by experts in the elements.\n",
      "\n",
      " As the parent company, KMD Brands brings vision and strategic guidance that make Kathmandu, Oboz and Rip Curl much more than the sum of their parts.\n",
      "\n",
      " By sharing expertise in technology, research and development and by leveraging operational excellence in sourcing, supply chain and systems, we are able to deliver the best customer experience across our brands.\n",
      "\n",
      " WHAT DRIVES US Our purpose and vision are motivated by our love of the outdoors and a commitment to protecting our natural environment and the people touched by our brands.\n",
      "\n",
      " We are proud to be part of an accelerating global cultural shift to redefine success, build a more inclusive and sustainable economy and use business as a force for good.\n"
     ]
    }
   ],
   "source": [
    "# Extract text from the PDF using Tesseract OCR\n",
    "text_ocr = parser_ocr(pdf_file_path)\n",
    "\n",
    "# Get sentences\n",
    "sentences = get_sentences(text_ocr)\n",
    "\n",
    "# Formatting Sentences\n",
    "formatted_sentences = sentence_formatter(sentences)\n",
    "\n",
    "# Print the first 10 formatted sentences\n",
    "for sentence in formatted_sentences[:25]:\n",
    "    print('\\n', sentence)"
   ]
  },
  {
   "cell_type": "code",
   "execution_count": null,
   "id": "c4bf3e35",
   "metadata": {},
   "outputs": [],
   "source": []
  }
 ],
 "metadata": {
  "kernelspec": {
   "display_name": "Python 3 (ipykernel)",
   "language": "python",
   "name": "python3"
  },
  "language_info": {
   "codemirror_mode": {
    "name": "ipython",
    "version": 3
   },
   "file_extension": ".py",
   "mimetype": "text/x-python",
   "name": "python",
   "nbconvert_exporter": "python",
   "pygments_lexer": "ipython3",
   "version": "3.10.13"
  }
 },
 "nbformat": 4,
 "nbformat_minor": 5
}
