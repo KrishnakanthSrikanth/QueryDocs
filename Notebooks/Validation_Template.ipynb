{
 "cells": [
  {
   "cell_type": "code",
   "execution_count": 1,
   "id": "11a5fad9",
   "metadata": {},
   "outputs": [],
   "source": [
    "import sys\n",
    "sys.path.append(\"../NotebookScripts/\")\n",
    "\n",
    "import pandas as pd\n",
    "from pdf_parser import sentence_parser\n",
    "from mvp_v2_similarity import compute_similarity_v2, save_similarity_results\n",
    "from sentence_transformers import SentenceTransformer, util"
   ]
  },
  {
   "cell_type": "code",
   "execution_count": 2,
   "id": "5987b87b",
   "metadata": {},
   "outputs": [],
   "source": [
    "# Specify the model\n",
    "mvp_v2_model = SentenceTransformer(\"all-mpnet-base-v2\")"
   ]
  },
  {
   "cell_type": "code",
   "execution_count": 3,
   "id": "9bd5dd96",
   "metadata": {},
   "outputs": [
    {
     "name": "stdout",
     "output_type": "stream",
     "text": [
      "Report located in specified directory\n",
      "\n",
      "Summary:\n",
      "Total number of sentences: 1593\n"
     ]
    }
   ],
   "source": [
    "# Declare file path to the Report (Use the Report you want to validate)\n",
    "# There are different sample reports available in the SampleReports Directory\n",
    "file_path = '../SampleReports'\n",
    "\n",
    "# Retieve Sentences from the report\n",
    "pdf_sentences = sentence_parser(file_path, print_sentences=False, parsing_method='pypdf')"
   ]
  },
  {
   "cell_type": "code",
   "execution_count": 7,
   "id": "f896f89c",
   "metadata": {},
   "outputs": [],
   "source": [
    "# Declare test query here\n",
    "query = \"ENTER YOUR QUERY HERE\""
   ]
  },
  {
   "cell_type": "code",
   "execution_count": 5,
   "id": "22ce3a40",
   "metadata": {},
   "outputs": [
    {
     "data": {
      "text/html": [
       "<div>\n",
       "<style scoped>\n",
       "    .dataframe tbody tr th:only-of-type {\n",
       "        vertical-align: middle;\n",
       "    }\n",
       "\n",
       "    .dataframe tbody tr th {\n",
       "        vertical-align: top;\n",
       "    }\n",
       "\n",
       "    .dataframe thead th {\n",
       "        text-align: right;\n",
       "    }\n",
       "</style>\n",
       "<table border=\"1\" class=\"dataframe\">\n",
       "  <thead>\n",
       "    <tr style=\"text-align: right;\">\n",
       "      <th></th>\n",
       "      <th>Sentence_ID</th>\n",
       "      <th>Sentence</th>\n",
       "      <th>Score</th>\n",
       "    </tr>\n",
       "  </thead>\n",
       "  <tbody>\n",
       "    <tr>\n",
       "      <th>1011</th>\n",
       "      <td>1012</td>\n",
       "      <td>At our company-operated stores we have commenc...</td>\n",
       "      <td>0.715441</td>\n",
       "    </tr>\n",
       "    <tr>\n",
       "      <th>1008</th>\n",
       "      <td>1009</td>\n",
       "      <td>Factors such as energy efficiency, water use, ...</td>\n",
       "      <td>0.678294</td>\n",
       "    </tr>\n",
       "    <tr>\n",
       "      <th>1004</th>\n",
       "      <td>1005</td>\n",
       "      <td>Customer engagement We undertook a survey of c...</td>\n",
       "      <td>0.659543</td>\n",
       "    </tr>\n",
       "    <tr>\n",
       "      <th>1013</th>\n",
       "      <td>1014</td>\n",
       "      <td>In FY22 we have focused on working with suppli...</td>\n",
       "      <td>0.633488</td>\n",
       "    </tr>\n",
       "    <tr>\n",
       "      <th>1010</th>\n",
       "      <td>1011</td>\n",
       "      <td>This waste is produced in relation to the prod...</td>\n",
       "      <td>0.585730</td>\n",
       "    </tr>\n",
       "    <tr>\n",
       "      <th>...</th>\n",
       "      <td>...</td>\n",
       "      <td>...</td>\n",
       "      <td>...</td>\n",
       "    </tr>\n",
       "    <tr>\n",
       "      <th>948</th>\n",
       "      <td>949</td>\n",
       "      <td>Just 14, Montana is an aspiring Para-swimmer h...</td>\n",
       "      <td>-0.038327</td>\n",
       "    </tr>\n",
       "    <tr>\n",
       "      <th>432</th>\n",
       "      <td>433</td>\n",
       "      <td>Ackery 100% 8 [8] n/a n/a n/a C. Mentis 100% 8...</td>\n",
       "      <td>-0.038630</td>\n",
       "    </tr>\n",
       "    <tr>\n",
       "      <th>944</th>\n",
       "      <td>945</td>\n",
       "      <td>Jye is an Australian middle-distance runner an...</td>\n",
       "      <td>-0.045059</td>\n",
       "    </tr>\n",
       "    <tr>\n",
       "      <th>6</th>\n",
       "      <td>7</td>\n",
       "      <td>Ariarne also as gracious in defeat as she is i...</td>\n",
       "      <td>-0.046288</td>\n",
       "    </tr>\n",
       "    <tr>\n",
       "      <th>1</th>\n",
       "      <td>2</td>\n",
       "      <td>Most recently in Birmingham, Ariarne achieved ...</td>\n",
       "      <td>-0.060451</td>\n",
       "    </tr>\n",
       "  </tbody>\n",
       "</table>\n",
       "<p>1593 rows × 3 columns</p>\n",
       "</div>"
      ],
      "text/plain": [
       "      Sentence_ID                                           Sentence     Score\n",
       "1011         1012  At our company-operated stores we have commenc...  0.715441\n",
       "1008         1009  Factors such as energy efficiency, water use, ...  0.678294\n",
       "1004         1005  Customer engagement We undertook a survey of c...  0.659543\n",
       "1013         1014  In FY22 we have focused on working with suppli...  0.633488\n",
       "1010         1011  This waste is produced in relation to the prod...  0.585730\n",
       "...           ...                                                ...       ...\n",
       "948           949  Just 14, Montana is an aspiring Para-swimmer h... -0.038327\n",
       "432           433  Ackery 100% 8 [8] n/a n/a n/a C. Mentis 100% 8... -0.038630\n",
       "944           945  Jye is an Australian middle-distance runner an... -0.045059\n",
       "6               7  Ariarne also as gracious in defeat as she is i... -0.046288\n",
       "1               2  Most recently in Birmingham, Ariarne achieved ... -0.060451\n",
       "\n",
       "[1593 rows x 3 columns]"
      ]
     },
     "execution_count": 5,
     "metadata": {},
     "output_type": "execute_result"
    }
   ],
   "source": [
    "# Compute Similarity Scores\n",
    "v2_results_df =  compute_similarity_v2(model=mvp_v2_model, \n",
    "                                       query=query, \n",
    "                                       pdf_sentences=pdf_sentences)\n",
    "\n",
    "# View results\n",
    "v2_results_df"
   ]
  },
  {
   "cell_type": "code",
   "execution_count": 6,
   "id": "c2c94416",
   "metadata": {},
   "outputs": [],
   "source": [
    "# Saves results to your computer's 'DOWNLOADS' folder\n",
    "save_similarity_results(v2_results_df, 'name_the_file_here.csv') "
   ]
  },
  {
   "cell_type": "code",
   "execution_count": null,
   "id": "00c1ad2c",
   "metadata": {},
   "outputs": [],
   "source": []
  }
 ],
 "metadata": {
  "kernelspec": {
   "display_name": "Python 3 (ipykernel)",
   "language": "python",
   "name": "python3"
  },
  "language_info": {
   "codemirror_mode": {
    "name": "ipython",
    "version": 3
   },
   "file_extension": ".py",
   "mimetype": "text/x-python",
   "name": "python",
   "nbconvert_exporter": "python",
   "pygments_lexer": "ipython3",
   "version": "3.10.13"
  }
 },
 "nbformat": 4,
 "nbformat_minor": 5
}
