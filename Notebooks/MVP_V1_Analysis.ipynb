{
 "cells": [
  {
   "cell_type": "code",
   "execution_count": 1,
   "id": "4019e540",
   "metadata": {},
   "outputs": [],
   "source": [
    "import sys\n",
    "sys.path.append(\"../NotebookScripts\")\n",
    "\n",
    "import pandas as pd\n",
    "from pdf_parser import sentence_parser \n",
    "import torch\n",
    "from transformers import AutoTokenizer, T5EncoderModel\n",
    "import time\n",
    "\n",
    "import warnings\n",
    "# warnings.filterwarnings(\"ignore\")\n",
    "\n",
    "# # Load T5EncoderModel - small\n",
    "# tokenizer = AutoTokenizer.from_pretrained(\"google-t5/t5-small\", model_max_length = 750, suppress_warnings=True)\n",
    "# model = T5EncoderModel.from_pretrained(\"google-t5/t5-small\")\n",
    "\n",
    "# Load T5EncoderModel - large (>2.8 GB - longer load time)\n",
    "tokenizer = AutoTokenizer.from_pretrained(\"google-t5/t5-large\", model_max_length = 750, suppress_warnings = True)\n",
    "model = T5EncoderModel.from_pretrained(\"google-t5/t5-large\")"
   ]
  },
  {
   "cell_type": "code",
   "execution_count": 2,
   "id": "89b32c48",
   "metadata": {},
   "outputs": [],
   "source": [
    "file_path = '../SampleReports/2023_Coles_Report.pdf'"
   ]
  },
  {
   "cell_type": "code",
   "execution_count": 3,
   "id": "ed50637b",
   "metadata": {
    "scrolled": true
   },
   "outputs": [
    {
     "name": "stdout",
     "output_type": "stream",
     "text": [
      "Report located in specified directory\n",
      "\n",
      "Summary:\n",
      "Total number of sentences: 685\n",
      "\n",
      " 2023 Sustainability ReportWorking towards a more sustainable future Coles Group Limited ABN 11 004 089 936Acknowledgement of Country Coles wishes to acknowledge the Traditional Custodians of Country throughout Australia.\n",
      "\n",
      " We recognise their strength and resilience and pay our respects to their Elders past and present.\n",
      "\n",
      " Coles extends that respect to all Aboriginal and Torres Strait Islander people, and recognises their rich cultures and their continuing connection to land and waters.\n",
      "\n",
      " Aboriginal and Torres Strait Islander people are advised that this report may contain names and images of people who are deceased.\n",
      "\n",
      " All references to Indigenous and First Nations people in this report are intended to include Aboriginal and/or Torres Strait Islander people.\n",
      "\n",
      " Feedback We welcome feedback on this report.\n",
      "\n",
      " This report also includes forward-looking statements regarding climate change and other environmental and energy transition scenarios.\n",
      "\n",
      " Forward-looking statements can generally be identified by the use of words such as ‘forecast’, ‘estimate’, ‘plan’, ‘will’, ‘anticipate’, ‘may’, ‘believe’, ‘should’, ‘expect’, ‘intend’, ‘outlook’, ‘guidance’ and other similar expressions.\n",
      "\n",
      " Any forward-looking statements are based on the Group’s current knowledge and assumptions, including with respect to financial, market, risk, regulatory and other relevant environments that will exist and affect the Group’s business and operations in the future.\n",
      "\n",
      " The Group does not give any assurance that the assumptions will prove to be correct.\n"
     ]
    }
   ],
   "source": [
    "pdf_sentences = sentence_parser(file_path, print_sentences=True ,num_sentences=10, parsing_method='pypdf')"
   ]
  },
  {
   "cell_type": "code",
   "execution_count": 4,
   "id": "6b9f7aea",
   "metadata": {},
   "outputs": [],
   "source": [
    "# Record the end time\n",
    "start_time = time.time()\n",
    "\n",
    "# Initialize an empty list to store dictionaries\n",
    "sentence_data = []\n",
    "\n",
    "# Iterate over the sentences\n",
    "for idx, sentence in enumerate(pdf_sentences, start=1):\n",
    "    # Tokenize Input sentence and query\n",
    "    input_ids = tokenizer(sentence, return_tensors='pt').input_ids\n",
    "    query_ids = tokenizer('This statement is strongly related to Sustainable practices', return_tensors='pt').input_ids\n",
    "\n",
    "    # Generate Encodings\n",
    "    outputs = model(input_ids=input_ids)\n",
    "    query = model(input_ids=query_ids)\n",
    "\n",
    "    # Retrieve encodings for sentence and query.\n",
    "    last_hidden_states = outputs.last_hidden_state\n",
    "    last_hidden_states_query = query.last_hidden_state\n",
    "\n",
    "    # Apply mean pooling along the token dimension (dim=1)\n",
    "    pooled_last_hidden_states = torch.mean(last_hidden_states, dim=1).unsqueeze(0)\n",
    "    pooled_last_hidden_states_query = torch.mean(last_hidden_states_query, dim=1).unsqueeze(0)\n",
    "\n",
    "    # Reshape pooled_last_hidden_states_query to match the shape of pooled_last_hidden_states\n",
    "    pooled_last_hidden_states_query = pooled_last_hidden_states_query.view(1, -1)\n",
    "\n",
    "    # Compute dot product between the pooled representations\n",
    "    similarity = torch.matmul(pooled_last_hidden_states, pooled_last_hidden_states_query.T)\n",
    "\n",
    "    # Append a dictionary with score and sentence to the list\n",
    "    sentence_data.append({'Sentence_ID': idx, 'Score': similarity.item(), 'Sentence': sentence})\n",
    "\n",
    "# Create DataFrame from the list of dictionaries\n",
    "df = pd.DataFrame(sentence_data)\n",
    "\n",
    "# Record the end time\n",
    "end_time = time.time()"
   ]
  },
  {
   "cell_type": "code",
   "execution_count": 5,
   "id": "e24b08ac",
   "metadata": {},
   "outputs": [
    {
     "name": "stdout",
     "output_type": "stream",
     "text": [
      "Execution Time: 172.2840449810028 seconds\n"
     ]
    }
   ],
   "source": [
    "# Calculate the total time taken\n",
    "execution_time = end_time - start_time\n",
    "\n",
    "print(\"Execution Time:\", execution_time, \"seconds\")"
   ]
  },
  {
   "cell_type": "code",
   "execution_count": 6,
   "id": "eb5363e5",
   "metadata": {},
   "outputs": [
    {
     "name": "stdout",
     "output_type": "stream",
     "text": [
      "     Sentence_ID     Score                                           Sentence\n",
      "513          514  4.953652                     Achieve Platinum in the AWEI .\n",
      "509          510  4.738400                    Sustain 40/40/201 on the Board.\n",
      "110          111  4.572626  We are doing this by: Building the resilience ...\n",
      "674          675  4.564928  Coles reported performance of the following se...\n",
      "151          152  4.564800  This Scope 3 target was validated by the Scien...\n",
      "..           ...       ...                                                ...\n",
      "560          561  3.783192  During the year our Safety Plan focused on bui...\n",
      "253          254  3.782845  This includes a dedicated sustainable packagin...\n",
      "6              7  3.775985  This report also includes forward-looking stat...\n",
      "104          105  3.775572  In the area of product safety and quality , we...\n",
      "301          302  3.774663  This joins a range of MSC-certified products w...\n",
      "\n",
      "[100 rows x 3 columns]\n"
     ]
    }
   ],
   "source": [
    "# Sort the DataFrame by the \"Score\" column in descending order\n",
    "df_sorted = df.sort_values(by='Score', ascending=False)\n",
    "\n",
    "# Display the sorted DataFrame\n",
    "print(df_sorted.head(100))"
   ]
  },
  {
   "cell_type": "code",
   "execution_count": null,
   "id": "0b0b0ce6",
   "metadata": {},
   "outputs": [],
   "source": []
  }
 ],
 "metadata": {
  "kernelspec": {
   "display_name": "Python 3 (ipykernel)",
   "language": "python",
   "name": "python3"
  },
  "language_info": {
   "codemirror_mode": {
    "name": "ipython",
    "version": 3
   },
   "file_extension": ".py",
   "mimetype": "text/x-python",
   "name": "python",
   "nbconvert_exporter": "python",
   "pygments_lexer": "ipython3",
   "version": "3.10.13"
  }
 },
 "nbformat": 4,
 "nbformat_minor": 5
}
